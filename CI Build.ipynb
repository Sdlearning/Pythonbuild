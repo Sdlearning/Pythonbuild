{
 "cells": [
  {
   "cell_type": "code",
   "execution_count": 1,
   "metadata": {},
   "outputs": [
    {
     "name": "stdout",
     "output_type": "stream",
     "text": [
      "Please enter number: 10\n",
      "result is:  10\n"
     ]
    }
   ],
   "source": [
    "try:\n",
    "    x=int(input(\"Please enter number: \"))\n",
    "    if x < 0 or x > 100:\n",
    "        raise ValueError(\"NUMBER must be between 0 and 100\") \n",
    "except ValueError as e:\n",
    "    print(e)\n",
    "else:\n",
    "    print(\"result is: \",x)     "
   ]
  },
  {
   "cell_type": "code",
   "execution_count": null,
   "metadata": {
    "collapsed": true
   },
   "outputs": [],
   "source": []
  }
 ],
 "metadata": {
  "kernelspec": {
   "display_name": "Python 3",
   "language": "python",
   "name": "python3"
  },
  "language_info": {
   "codemirror_mode": {
    "name": "ipython",
    "version": 3
   },
   "file_extension": ".py",
   "mimetype": "text/x-python",
   "name": "python",
   "nbconvert_exporter": "python",
   "pygments_lexer": "ipython3",
   "version": "3.6.3"
  }
 },
 "nbformat": 4,
 "nbformat_minor": 2
}
